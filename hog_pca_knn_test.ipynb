{
 "cells": [
  {
   "cell_type": "code",
   "execution_count": 9,
   "metadata": {},
   "outputs": [
    {
     "name": "stdout",
     "output_type": "stream",
     "text": [
      "              precision    recall  f1-score   support\n",
      "\n",
      "           0       1.00      1.00      1.00      1096\n",
      "           1       0.98      0.98      0.98       228\n",
      "           2       1.00      0.92      0.96       427\n",
      "           3       0.96      1.00      0.98       682\n",
      "           4       0.97      0.99      0.98       309\n",
      "\n",
      "   micro avg       0.98      0.98      0.98      2742\n",
      "   macro avg       0.98      0.98      0.98      2742\n",
      "weighted avg       0.98      0.98      0.98      2742\n",
      "\n",
      "[[1094    0    0    1    1]\n",
      " [   0  223    0    1    4]\n",
      " [   2    4  391   25    5]\n",
      " [   2    0    0  680    0]\n",
      " [   1    0    0    2  306]]\n",
      "0.9824945295404814\n"
     ]
    }
   ],
   "source": [
    "import os\n",
    "import time\n",
    "import dlib\n",
    "import cv2\n",
    "import numpy as np\n",
    "import pickle\n",
    "from matplotlib import pyplot as plt\n",
    "from sklearn.preprocessing import StandardScaler  \n",
    "from sklearn.neighbors import KNeighborsClassifier  \n",
    "from sklearn.metrics import classification_report, confusion_matrix, accuracy_score\n",
    "\n",
    "\n",
    "os.chdir('/home/hhmt/projects/tma/face_recog/')\n",
    "train_size = 6407\n",
    "val_size = 2742\n",
    "test_size = 0\n",
    "face_size = 224\n",
    "project_dimension = 3\n",
    "alignment_size = face_size * project_dimension\n",
    "k_neighbors = 1\n",
    "\n",
    "\n",
    "with open(\"train_data.pkl\", \"rb\") as f:\n",
    "    x_train = pickle.load(f)\n",
    "x_train = x_train.reshape(-1, face_size, face_size, 3)\n",
    "x_train = x_train[:,:,:,0]\n",
    "\n",
    "with open(\"train_labels.pkl\", \"rb\") as f:\n",
    "    y_train = pickle.load(f)\n",
    "\n",
    "\n",
    "with open(\"validation_data.pkl\", \"rb\") as f:\n",
    "    x_val = pickle.load(f)\n",
    "x_val = x_val.reshape(-1, face_size, face_size, 3)\n",
    "x_val = x_val[:,:,:,0]\n",
    "\n",
    "with open(\"validation_labels.pkl\", \"rb\") as f:\n",
    "    y_val = pickle.load(f)\n",
    "\n",
    "\n",
    "# Calculate mean of all train data\n",
    "mean = np.zeros((face_size, face_size))\n",
    "for i in range(0, face_size):\n",
    "    for j in range(0, face_size):\n",
    "        for t in range(0, train_size):\n",
    "            mean[i][j] += x_train[t][i][j]\n",
    "        mean[i][j] /= train_size\n",
    "\n",
    "\n",
    "# Generate Scatter Matrix\n",
    "scatter_matrix = np.zeros((face_size, face_size))\n",
    "for i in range(0, train_size):\n",
    "    scatter_matrix += (x_train[i,:,:] - mean).dot((x_train[i,:,:] - mean).T)\n",
    "\n",
    "\n",
    "# Generate projection vector\n",
    "projection_vector = np.zeros((face_size, 0))\n",
    "\n",
    "eigen_values, eigen_vectors = np.linalg.eig(scatter_matrix)\n",
    "eigen_pairs = [(np.abs(eigen_values[i]), eigen_vectors[:,i]) for i in range(0, face_size)]\n",
    "eigen_pairs.sort(key=lambda x: x[0], reverse=True)\n",
    "\n",
    "for i in range(0, project_dimension):\n",
    "    projection_vector = np.hstack((projection_vector, eigen_pairs[i][1].reshape(face_size, 1)))\n",
    "\n",
    "\n",
    "# Transform x_train \n",
    "tmp = []\n",
    "for i in range(0, train_size):\n",
    "    tmp.append(projection_vector.T.dot(x_train[i]))\n",
    "x_train = np.zeros((train_size, project_dimension, face_size))\n",
    "x_train = np.concatenate([tmp])\n",
    "    \n",
    "\n",
    "# Align x_train to 1D\n",
    "x_train = x_train.reshape(train_size, alignment_size)\n",
    "\n",
    "\n",
    "# Transform x_val\n",
    "tmp = []\n",
    "for i in range(0, val_size):\n",
    "    tmp.append(projection_vector.T.dot(x_val[i]))\n",
    "x_val = np.zeros((val_size, project_dimension, face_size))\n",
    "x_val = np.concatenate([tmp])\n",
    "\n",
    "\n",
    "# Align x_val to 1D\n",
    "x_val = x_val.reshape(val_size, alignment_size)\n",
    "\n",
    "\n",
    "# \n",
    "scaler = StandardScaler()  \n",
    "scaler.fit(x_train)\n",
    "\n",
    "x_train = scaler.transform(x_train)\n",
    "x_val = scaler.transform(x_val)\n",
    "\n",
    "classifier = KNeighborsClassifier(n_neighbors=k_neighbors)\n",
    "classifier.fit(x_train, y_train)\n",
    "\n",
    "y_pred = np.ravel(classifier.predict(x_val))\n",
    "\n",
    "print(classification_report(y_val, y_pred))  \n",
    "print(confusion_matrix(y_val, y_pred))\n",
    "print(accuracy_score(y_val, y_pred))"
   ]
  },
  {
   "cell_type": "code",
   "execution_count": 16,
   "metadata": {},
   "outputs": [
    {
     "name": "stdout",
     "output_type": "stream",
     "text": [
      "              precision    recall  f1-score   support\n",
      "\n",
      "           0       0.98      0.18      0.31      1096\n",
      "           1       1.00      0.02      0.03       228\n",
      "           2       0.18      1.00      0.31       427\n",
      "           3       0.97      0.17      0.30       682\n",
      "           4       0.92      0.22      0.35       309\n",
      "\n",
      "   micro avg       0.30      0.30      0.30      2742\n",
      "   macro avg       0.81      0.32      0.26      2742\n",
      "weighted avg       0.85      0.30      0.29      2742\n",
      "\n",
      "[[199   0 897   0   0]\n",
      " [  2   4 213   4   5]\n",
      " [  0   0 426   0   1]\n",
      " [  1   0 562 119   0]\n",
      " [  1   0 241   0  67]]\n"
     ]
    }
   ],
   "source": [
    "print(classification_report(y_val, y_pred))\n",
    "print(confusion_matrix(y_val, y_pred))"
   ]
  },
  {
   "cell_type": "code",
   "execution_count": 2,
   "metadata": {},
   "outputs": [
    {
     "name": "stdout",
     "output_type": "stream",
     "text": [
      "              precision    recall  f1-score   support\n",
      "\n",
      "           0       0.88      0.49      0.63      1096\n",
      "           1       1.00      0.07      0.13       228\n",
      "           2       0.23      1.00      0.38       427\n",
      "           3       0.94      0.29      0.44       682\n",
      "           4       0.94      0.23      0.37       309\n",
      "\n",
      "   micro avg       0.46      0.46      0.46      2742\n",
      "   macro avg       0.80      0.42      0.39      2742\n",
      "weighted avg       0.81      0.46      0.47      2742\n",
      "\n",
      "[[540   0 554   2   0]\n",
      " [ 33  16 167   8   4]\n",
      " [  0   0 426   0   1]\n",
      " [  9   0 477 196   0]\n",
      " [ 32   0 203   2  72]]\n",
      "0.45587162654996355\n"
     ]
    }
   ],
   "source": [
    "print(classification_report(y_val, y_pred))  \n",
    "print(confusion_matrix(y_val, y_pred))\n",
    "print(accuracy_score(y_val, y_pred))"
   ]
  },
  {
   "cell_type": "code",
   "execution_count": 4,
   "metadata": {},
   "outputs": [
    {
     "name": "stdout",
     "output_type": "stream",
     "text": [
      "              precision    recall  f1-score   support\n",
      "\n",
      "           0       0.59      0.98      0.74      1096\n",
      "           1       1.00      0.03      0.06       228\n",
      "           2       1.00      0.96      0.98       427\n",
      "           3       0.87      0.54      0.67       682\n",
      "           4       0.95      0.25      0.39       309\n",
      "\n",
      "   micro avg       0.71      0.71      0.71      2742\n",
      "   macro avg       0.88      0.55      0.57      2742\n",
      "weighted avg       0.80      0.71      0.66      2742\n",
      "\n",
      "[[1074    0    0   22    0]\n",
      " [ 200    7    0   18    3]\n",
      " [  14    0  412    0    1]\n",
      " [ 312    0    0  370    0]\n",
      " [ 216    0    0   17   76]]\n",
      "0.7071480671043034\n"
     ]
    }
   ],
   "source": [
    "print(classification_report(y_val, y_pred))  \n",
    "print(confusion_matrix(y_val, y_pred))\n",
    "print(accuracy_score(y_val, y_pred))"
   ]
  },
  {
   "cell_type": "code",
   "execution_count": 6,
   "metadata": {},
   "outputs": [
    {
     "name": "stdout",
     "output_type": "stream",
     "text": [
      "              precision    recall  f1-score   support\n",
      "\n",
      "           0       0.61      0.97      0.75      1096\n",
      "           1       1.00      0.06      0.12       228\n",
      "           2       1.00      0.84      0.91       427\n",
      "           3       0.82      0.67      0.74       682\n",
      "           4       0.95      0.26      0.41       309\n",
      "\n",
      "   micro avg       0.72      0.72      0.72      2742\n",
      "   macro avg       0.88      0.56      0.59      2742\n",
      "weighted avg       0.80      0.72      0.68      2742\n",
      "\n",
      "[[1058    0    0   38    0]\n",
      " [ 190   14    0   21    3]\n",
      " [  65    0  359    2    1]\n",
      " [ 223    0    0  459    0]\n",
      " [ 188    0    0   40   81]]\n",
      "0.7188183807439825\n"
     ]
    }
   ],
   "source": [
    "print(classification_report(y_val, y_pred))  \n",
    "print(confusion_matrix(y_val, y_pred))\n",
    "print(accuracy_score(y_val, y_pred))"
   ]
  },
  {
   "cell_type": "code",
   "execution_count": 8,
   "metadata": {},
   "outputs": [
    {
     "name": "stdout",
     "output_type": "stream",
     "text": [
      "              precision    recall  f1-score   support\n",
      "\n",
      "           0       0.99      1.00      0.99      1096\n",
      "           1       0.96      0.98      0.97       228\n",
      "           2       1.00      0.91      0.95       427\n",
      "           3       0.96      0.99      0.98       682\n",
      "           4       0.98      0.98      0.98       309\n",
      "\n",
      "   micro avg       0.98      0.98      0.98      2742\n",
      "   macro avg       0.98      0.97      0.97      2742\n",
      "weighted avg       0.98      0.98      0.98      2742\n",
      "\n",
      "[[1095    0    0    1    0]\n",
      " [   1  224    0    0    3]\n",
      " [   4   10  388   21    4]\n",
      " [   4    0    0  678    0]\n",
      " [   3    0    0    3  303]]\n",
      "0.9803063457330415\n"
     ]
    }
   ],
   "source": [
    "print(classification_report(y_val, y_pred))  \n",
    "print(confusion_matrix(y_val, y_pred))\n",
    "print(accuracy_score(y_val, y_pred))"
   ]
  },
  {
   "cell_type": "code",
   "execution_count": null,
   "metadata": {},
   "outputs": [],
   "source": []
  }
 ],
 "metadata": {
  "kernelspec": {
   "display_name": "Python 3",
   "language": "python",
   "name": "python3"
  },
  "language_info": {
   "codemirror_mode": {
    "name": "ipython",
    "version": 3
   },
   "file_extension": ".py",
   "mimetype": "text/x-python",
   "name": "python",
   "nbconvert_exporter": "python",
   "pygments_lexer": "ipython3",
   "version": "3.5.2"
  }
 },
 "nbformat": 4,
 "nbformat_minor": 2
}
